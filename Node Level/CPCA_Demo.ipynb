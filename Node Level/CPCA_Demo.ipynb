{
 "cells": [
  {
   "cell_type": "code",
   "execution_count": 1,
   "id": "71abf76b-4972-4592-a56a-d9cdd4ae455b",
   "metadata": {},
   "outputs": [],
   "source": [
    "from baselines.CPCA import cpca\n",
    "import torch\n",
    "import numpy as np\n",
    "from dataset import set_random_seed\n",
    "from dataset import NodeLevelDataset\n",
    "from backbone.gnns import GCN_Increment\n",
    "import importlib\n",
    "from torch.nn import functional as F\n",
    "\n",
    "def node_class_increment():\n",
    "    ### device ###\n",
    "    cuda_index = 'cuda:' + '0'\n",
    "    device = torch.device(cuda_index if torch.cuda.is_available() else \"cpu\")\n",
    "\n",
    "    ### set seed ###\n",
    "    set_random_seed(0)\n",
    "    \n",
    "    m = \"data\"\n",
    "\n",
    "    ### load dataset ###\n",
    "    frac_list = [0.8,0.0,0.2]\n",
    "    clss_task_list = [30,10,10,10,10] #CoreFull\n",
    "    dataset_name = \"CoraFull\"\n",
    "    NData = NodeLevelDataset(name=dataset_name, IL='class', default_split=False, ratio_valid_test = frac_list)\n",
    "\n",
    "    inter_task_edge = False\n",
    "    mini_batch = True\n",
    "\n",
    "    args_model = {'h_dims':[256], 'd_data':NData.d_data, 'n_cls':sum(clss_task_list)}\n",
    "    model = GCN_Increment(args=args_model)\n",
    "    life_model = importlib.import_module(f\"baselines.{m}_model\")\n",
    "    ### class-increment task ###\n",
    "    model_CL =  life_model.NET(model, clss_task_list, device, inter_task_edge=inter_task_edge, mini_batch = mini_batch, dataset_name = dataset_name)\n",
    "    model_CL.load_dataset(NData, clss_task_list)\n",
    "\n",
    "    for task_id, task_class_num in enumerate(clss_task_list):\n",
    "        model_CL.load_task_dataset(task_class=task_class_num, task_id=task_id)\n",
    "        model_CL.end_task()\n",
    "\n",
    "if __name__ == '__main__':\n",
    "    node_class_increment()"
   ]
  },
  {
   "cell_type": "code",
   "execution_count": 1,
   "id": "5892085e-afea-45d6-a023-21b1f2f0b851",
   "metadata": {},
   "outputs": [
    {
     "name": "stderr",
     "output_type": "stream",
     "text": [
      "/environment/miniconda3/lib/python3.7/site-packages/dgl/dataloading/dataloader.py:869: DGLWarning: Dataloader CPU affinity opt is not enabled, consider switching it on (see enable_cpu_affinity() or CPU best practices for DGL [https://docs.dgl.ai/tutorials/cpu/cpu_best_practises.html])\n",
      "  dgl_warning(f'Dataloader CPU affinity opt is not enabled, consider switching it on '\n"
     ]
    },
    {
     "data": {
      "image/png": "[encoded data removed]",
      "text/plain": [
       "<Figure size 720x720 with 2 Axes>"
      ]
     },
     "metadata": {
      "needs_background": "light"
     },
     "output_type": "display_data"
    },
    {
     "name": "stdout",
     "output_type": "stream",
     "text": [
      "End!  the AP [0.7821388  0.69996633 0.60473851 0.57180255 0.48941502] the AF [ 0.         -0.03526736 -0.06737297 -0.08701262 -0.14696625]\n"
     ]
    }
   ],
   "source": [
    "from baselines.CPCA import cpca\n",
    "import torch\n",
    "import numpy as np\n",
    "from dataset import set_random_seed\n",
    "from dataset import NodeLevelDataset\n",
    "from backbone.gnns import GCN_Increment\n",
    "import importlib\n",
    "from torch.nn import functional as F\n",
    "\n",
    "def node_class_increment():\n",
    "    ### device ###\n",
    "    cuda_index = 'cuda:' + '0'\n",
    "    device = torch.device(cuda_index if torch.cuda.is_available() else \"cpu\")\n",
    "\n",
    "    ### set seed ###\n",
    "    set_random_seed(0)\n",
    "    \n",
    "    m = \"cpca\"\n",
    "\n",
    "    ### load dataset ###\n",
    "    frac_list = [0.8,0.0,0.2]\n",
    "    clss_task_list = [30,10,10,10,10] #CoreFull\n",
    "    dataset_list = [\"ogbn-arxiv\",\"CoraFull\",\"Reddit\",\"Arxiv-CL\",\"Products-CL\"]\n",
    "    dataset_name = dataset_list[1]\n",
    "    NData = NodeLevelDataset(name=dataset_name, IL='class', default_split=False, ratio_valid_test = frac_list)\n",
    "\n",
    "    inter_task_edge = False\n",
    "    mini_batch = True\n",
    "\n",
    "    args_model = {'h_dims':[256], 'd_data':NData.d_data, 'n_cls':clss_task_list[0]}\n",
    "    model = GCN_Increment(args=args_model)\n",
    "\n",
    "    ### class-increment task ###\n",
    "    model_CL = cpca(model, clss_task_list[0], device, inter_task_edge=inter_task_edge, mini_batch = mini_batch, dataset_name = dataset_name, index = \"1\")\n",
    "    model_CL.load_dataset(NData, clss_task_list)\n",
    "\n",
    "    if_debug = True\n",
    "    if_eval = True\n",
    "    for task_id, task_class_num in enumerate(clss_task_list):\n",
    "        model_CL.load_task_dataset(task_class=task_class_num, task_id=task_id)\n",
    "        model_CL.before_train(task_id)\n",
    "        model_CL.model_train(task_id, debug = if_debug, if_eval = if_eval, n_epoch = 100, lamb_kd= 0.1, lamb_se = 1, use_mu = False)\n",
    "        model_CL.after_train(task_id)\n",
    "        model_CL.cal_feature_class(task_id, debug = if_debug)\n",
    "        model_CL.evaluation(task_id, clss_task_list)\n",
    "        model_CL.end_task()\n",
    "\n",
    "if __name__ == '__main__':\n",
    "    node_class_increment()"
   ]
  },
  {
   "cell_type": "code",
   "execution_count": null,
   "id": "c9dcca6f-b2fa-436f-b62f-fc84bddedb35",
   "metadata": {},
   "outputs": [],
   "source": []
  }
 ],
 "metadata": {
  "kernelspec": {
   "display_name": "Python 3 (ipykernel)",
   "language": "python",
   "name": "python3"
  },
  "language_info": {
   "codemirror_mode": {
    "name": "ipython",
    "version": 3
   },
   "file_extension": ".py",
   "mimetype": "text/x-python",
   "name": "python",
   "nbconvert_exporter": "python",
   "pygments_lexer": "ipython3",
   "version": "3.7.10"
  }
 },
 "nbformat": 4,
 "nbformat_minor": 5
}
