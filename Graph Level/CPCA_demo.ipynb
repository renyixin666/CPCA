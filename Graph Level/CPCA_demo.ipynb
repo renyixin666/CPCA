{
 "cells": [
  {
   "cell_type": "code",
   "execution_count": 1,
   "id": "400cbf9a-3ebd-4612-89b4-1642e1a7e5cc",
   "metadata": {},
   "outputs": [
    {
     "name": "stdout",
     "output_type": "stream",
     "text": [
      "Processing dgl graphs from scratch...\n",
      "Processing molecule 1000/3949\n",
      "Processing molecule 2000/3949\n",
      "Processing molecule 3000/3949\n",
      "End Dataset Split!\n"
     ]
    }
   ],
   "source": [
    "from baselines.CPCA import cpca\n",
    "import torch\n",
    "import numpy as np\n",
    "from dataset import set_random_seed\n",
    "from dataset import GraphLevelDataset\n",
    "from backbone import GCNPredictor\n",
    "import importlib\n",
    "\n",
    "\n",
    "def graph_class_increment():\n",
    "    ### device ###\n",
    "    cuda_index = 'cuda:' + '0'\n",
    "    device = torch.device(cuda_index if torch.cuda.is_available() else \"cpu\")\n",
    "\n",
    "    ### set seed ###\n",
    "    set_random_seed()\n",
    "\n",
    "\n",
    "    model_list = {\"bare\":\"bare\",\"ewc\":\"ewc\",\"gem\":\"gem\",\"joint\":\"joint\",\"lwf\":\"lwf\",\"mas\":\"mas\",\"twp\":\"twp\",\"ergnn\":\"ergnn\"}\n",
    "    m = \"data\"\n",
    "\n",
    "    ### load dataset ###\n",
    "    frac_list = np.array([0.8,0.0,0.2])\n",
    "    clss_task_list = [20,5,5,5,5]\n",
    "    GData = GraphLevelDataset(frac_list,clss_task_list,m)\n",
    "    dataset, train_set, val_set, test_set = GData.get_dataset()\n",
    "\n",
    "    batchsize = 64\n",
    "\n",
    "    model = GCNPredictor(in_feats=dataset.graphs[0].ndata['h'].shape[1], n_tasks=sum(clss_task_list))\n",
    "\n",
    "    life_model = importlib.import_module(f\"baselines.{m}_model\")\n",
    "\n",
    "    ### class-incremnet task ###\n",
    "    model_CL =  life_model.NET(model, clss_task_list, device)\n",
    "    model_CL.load_dataset(GData, batchsize = batchsize)\n",
    "\n",
    "if __name__ == '__main__':\n",
    "    graph_class_increment()"
   ]
  },
  {
   "cell_type": "code",
   "execution_count": null,
   "id": "2b5d52aa-8fce-4bcb-b219-61ae4ca686e9",
   "metadata": {},
   "outputs": [
    {
     "name": "stdout",
     "output_type": "stream",
     "text": [
      "Processing dgl graphs from scratch...\n",
      "Processing molecule 1000/3949\n",
      "Processing molecule 2000/3949\n",
      "Processing molecule 3000/3949\n",
      "load saved dataset!!!\n"
     ]
    },
    {
     "data": {
      "image/png": "[encoded data removed]",
      "text/plain": [
       "<Figure size 720x720 with 2 Axes>"
      ]
     },
     "metadata": {
      "needs_background": "light"
     },
     "output_type": "display_data"
    },
    {
     "name": "stdout",
     "output_type": "stream",
     "text": [
      "End!  the AP [0.88662131 0.747275   0.58275341 0.53468923 0.39301192] the AF [ 0.         -0.07482993 -0.20024239 -0.21087653 -0.32658173]\n"
     ]
    }
   ],
   "source": [
    "from baselines.CPCA import cpca\n",
    "import torch\n",
    "import numpy as np\n",
    "from dataset import set_random_seed\n",
    "from dataset import GraphLevelDataset\n",
    "from backbone import GCNPredictor\n",
    "import importlib\n",
    "\n",
    "\n",
    "def graph_class_increment():\n",
    "    ### device ###\n",
    "    cuda_index = 'cuda:' + '0'\n",
    "    device = torch.device(cuda_index if torch.cuda.is_available() else \"cpu\")\n",
    "\n",
    "    ### set seed ###\n",
    "    set_random_seed(0)\n",
    "\n",
    "    m = \"cpca\"\n",
    "\n",
    "    ### load dataset ###\n",
    "    frac_list = np.array([0.8,0.0,0.2])\n",
    "    clss_task_list = [20,5,5,5,5]\n",
    "    GData = GraphLevelDataset(frac_list,clss_task_list,m)\n",
    "    dataset, train_set, val_set, test_set = GData.get_dataset()\n",
    "\n",
    "    batchsize = 64\n",
    "    ### load model ###\n",
    "    model = GCNPredictor(in_feats=dataset.graphs[0].ndata['h'].shape[1], n_tasks=clss_task_list[0])\n",
    "\n",
    "    ### class-increment task ###\n",
    "    CPCA = cpca(model, clss_task_list[0], device)\n",
    "    CPCA.load_dataset(GData, batchsize=batchsize)\n",
    "    is_debug = True\n",
    "    if_eval = True\n",
    "    for task_id, task_class_num in enumerate(clss_task_list):\n",
    "        CPCA.load_task_dataset(task_id, task_class=task_class_num)\n",
    "        CPCA.before_train(task_id)\n",
    "        CPCA.model_train(task_id, debug = is_debug, if_eval = if_eval, n_epoch=150, use_mu =  False)\n",
    "        CPCA.after_train(task_id)\n",
    "        CPCA.cal_feature_class(debug = is_debug)\n",
    "        CPCA.evaluation(task_id, clss_task_list)\n",
    "        CPCA.end_task()\n",
    "\n",
    "if __name__ == '__main__':\n",
    "    graph_class_increment()"
   ]
  },
  {
   "cell_type": "code",
   "execution_count": null,
   "id": "1a6f506a-b386-41ef-b594-d16b00ae43d2",
   "metadata": {},
   "outputs": [],
   "source": []
  }
 ],
 "metadata": {
  "kernelspec": {
   "display_name": "Python 3 (ipykernel)",
   "language": "python",
   "name": "python3"
  },
  "language_info": {
   "codemirror_mode": {
    "name": "ipython",
    "version": 3
   },
   "file_extension": ".py",
   "mimetype": "text/x-python",
   "name": "python",
   "nbconvert_exporter": "python",
   "pygments_lexer": "ipython3",
   "version": "3.7.10"
  }
 },
 "nbformat": 4,
 "nbformat_minor": 5
}
